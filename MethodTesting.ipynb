{
 "cells": [
  {
   "cell_type": "code",
   "execution_count": 1,
   "id": "c6c6675a",
   "metadata": {},
   "outputs": [],
   "source": [
    "import numpy as np\n",
    "import pandas as pd\n",
    "import mdtraj as md\n",
    "import gpytorch as gpy\n",
    "import botorch as bo\n",
    "from typing import Union"
   ]
  },
  {
   "cell_type": "code",
   "execution_count": null,
   "id": "a18143f6",
   "metadata": {},
   "outputs": [],
   "source": [
    "# import sys, pathlib\n",
    "\n",
    "# project_root = pathlib.Path(\"/project/andrewferguson/Nick/GitHub/ALPineFOREst/\")\n",
    "# sys.path.insert(0, str(project_root / \"src\"))\n",
    "\n",
    "# import importlib, alpfore.loaders.lammps_loader as ll\n",
    "# importlib.reload(ll)"
   ]
  },
  {
   "cell_type": "code",
   "execution_count": 4,
   "id": "a2fd256d",
   "metadata": {},
   "outputs": [],
   "source": [
    "import alpfore"
   ]
  },
  {
   "cell_type": "code",
   "execution_count": 3,
   "id": "7128f34b",
   "metadata": {},
   "outputs": [
    {
     "ename": "ModuleNotFoundError",
     "evalue": "No module named 'evaluators'",
     "output_type": "error",
     "traceback": [
      "\u001b[0;31m---------------------------------------------------------------------------\u001b[0m",
      "\u001b[0;31mModuleNotFoundError\u001b[0m                       Traceback (most recent call last)",
      "\u001b[0;32m/var/tmp/ipykernel_648835/903545286.py\u001b[0m in \u001b[0;36m<module>\u001b[0;34m\u001b[0m\n\u001b[1;32m      5\u001b[0m \u001b[0msys\u001b[0m\u001b[0;34m.\u001b[0m\u001b[0mpath\u001b[0m\u001b[0;34m.\u001b[0m\u001b[0minsert\u001b[0m\u001b[0;34m(\u001b[0m\u001b[0;36m0\u001b[0m\u001b[0;34m,\u001b[0m \u001b[0mstr\u001b[0m\u001b[0;34m(\u001b[0m\u001b[0mproject_root\u001b[0m \u001b[0;34m/\u001b[0m \u001b[0;34m\"src\"\u001b[0m\u001b[0;34m)\u001b[0m\u001b[0;34m)\u001b[0m\u001b[0;34m\u001b[0m\u001b[0;34m\u001b[0m\u001b[0m\n\u001b[1;32m      6\u001b[0m \u001b[0;34m\u001b[0m\u001b[0m\n\u001b[0;32m----> 7\u001b[0;31m \u001b[0;32mimport\u001b[0m \u001b[0malpfore\u001b[0m\u001b[0;34m\u001b[0m\u001b[0;34m\u001b[0m\u001b[0m\n\u001b[0m",
      "\u001b[0;32m/project/andrewferguson/Nick/GitHub/ALPineFOREst/src/alpfore/__init__.py\u001b[0m in \u001b[0;36m<module>\u001b[0;34m\u001b[0m\n\u001b[1;32m     13\u001b[0m \u001b[0m__path__\u001b[0m \u001b[0;34m=\u001b[0m \u001b[0m__path__\u001b[0m  \u001b[0;31m# needed for pkgutil to work\u001b[0m\u001b[0;34m\u001b[0m\u001b[0;34m\u001b[0m\u001b[0m\n\u001b[1;32m     14\u001b[0m \u001b[0;32mfor\u001b[0m \u001b[0mloader\u001b[0m\u001b[0;34m,\u001b[0m \u001b[0mmodule_name\u001b[0m\u001b[0;34m,\u001b[0m \u001b[0mis_pkg\u001b[0m \u001b[0;32min\u001b[0m \u001b[0mpkgutil\u001b[0m\u001b[0;34m.\u001b[0m\u001b[0mwalk_packages\u001b[0m\u001b[0;34m(\u001b[0m\u001b[0m__path__\u001b[0m\u001b[0;34m,\u001b[0m \u001b[0mprefix\u001b[0m\u001b[0;34m=\u001b[0m\u001b[0m__name__\u001b[0m \u001b[0;34m+\u001b[0m \u001b[0;34m\".\"\u001b[0m\u001b[0;34m)\u001b[0m\u001b[0;34m:\u001b[0m\u001b[0;34m\u001b[0m\u001b[0;34m\u001b[0m\u001b[0m\n\u001b[0;32m---> 15\u001b[0;31m     \u001b[0mimportlib\u001b[0m\u001b[0;34m.\u001b[0m\u001b[0mimport_module\u001b[0m\u001b[0;34m(\u001b[0m\u001b[0mmodule_name\u001b[0m\u001b[0;34m)\u001b[0m\u001b[0;34m\u001b[0m\u001b[0;34m\u001b[0m\u001b[0m\n\u001b[0m\u001b[1;32m     16\u001b[0m \u001b[0;34m\u001b[0m\u001b[0m\n",
      "\u001b[0;32m~/.conda/envs/moleng37/lib/python3.7/importlib/__init__.py\u001b[0m in \u001b[0;36mimport_module\u001b[0;34m(name, package)\u001b[0m\n\u001b[1;32m    125\u001b[0m                 \u001b[0;32mbreak\u001b[0m\u001b[0;34m\u001b[0m\u001b[0;34m\u001b[0m\u001b[0m\n\u001b[1;32m    126\u001b[0m             \u001b[0mlevel\u001b[0m \u001b[0;34m+=\u001b[0m \u001b[0;36m1\u001b[0m\u001b[0;34m\u001b[0m\u001b[0;34m\u001b[0m\u001b[0m\n\u001b[0;32m--> 127\u001b[0;31m     \u001b[0;32mreturn\u001b[0m \u001b[0m_bootstrap\u001b[0m\u001b[0;34m.\u001b[0m\u001b[0m_gcd_import\u001b[0m\u001b[0;34m(\u001b[0m\u001b[0mname\u001b[0m\u001b[0;34m[\u001b[0m\u001b[0mlevel\u001b[0m\u001b[0;34m:\u001b[0m\u001b[0;34m]\u001b[0m\u001b[0;34m,\u001b[0m \u001b[0mpackage\u001b[0m\u001b[0;34m,\u001b[0m \u001b[0mlevel\u001b[0m\u001b[0;34m)\u001b[0m\u001b[0;34m\u001b[0m\u001b[0;34m\u001b[0m\u001b[0m\n\u001b[0m\u001b[1;32m    128\u001b[0m \u001b[0;34m\u001b[0m\u001b[0m\n\u001b[1;32m    129\u001b[0m \u001b[0;34m\u001b[0m\u001b[0m\n",
      "\u001b[0;32m/project/andrewferguson/Nick/GitHub/ALPineFOREst/src/alpfore/core/__init__.py\u001b[0m in \u001b[0;36m<module>\u001b[0;34m\u001b[0m\n\u001b[1;32m      1\u001b[0m \u001b[0m__all__\u001b[0m \u001b[0;34m=\u001b[0m \u001b[0;34m[\u001b[0m\u001b[0;34m\"BaseEvaluator\"\u001b[0m\u001b[0;34m,\u001b[0m \u001b[0;34m\"Trajectory\"\u001b[0m\u001b[0;34m]\u001b[0m\u001b[0;34m\u001b[0m\u001b[0;34m\u001b[0m\u001b[0m\n\u001b[1;32m      2\u001b[0m \u001b[0;34m\u001b[0m\u001b[0m\n\u001b[0;32m----> 3\u001b[0;31m \u001b[0;32mfrom\u001b[0m \u001b[0mevaluators\u001b[0m \u001b[0;32mimport\u001b[0m \u001b[0mBaseEvaluator\u001b[0m\u001b[0;34m\u001b[0m\u001b[0;34m\u001b[0m\u001b[0m\n\u001b[0m\u001b[1;32m      4\u001b[0m \u001b[0;32mfrom\u001b[0m \u001b[0mloaders\u001b[0m \u001b[0;32mimport\u001b[0m \u001b[0mTrajectory\u001b[0m\u001b[0;34m\u001b[0m\u001b[0;34m\u001b[0m\u001b[0m\n",
      "\u001b[0;31mModuleNotFoundError\u001b[0m: No module named 'evaluators'"
     ]
    }
   ],
   "source": [
    "import sys\n",
    "from pathlib import Path\n",
    "\n",
    "project_root = Path(\"/project/andrewferguson/Nick/GitHub/ALPineFOREst\")\n",
    "sys.path.insert(0, str(project_root / \"src\"))\n",
    "\n",
    "import alpfore"
   ]
  },
  {
   "cell_type": "code",
   "execution_count": 8,
   "id": "fe21ca65",
   "metadata": {},
   "outputs": [
    {
     "name": "stdout",
     "output_type": "stream",
     "text": [
      "/project/andrewferguson/Nick/GitHub/ALPineFOREst/src/alpfore/__init__.py\n"
     ]
    }
   ],
   "source": [
    "print(alpfore.__file__)"
   ]
  },
  {
   "cell_type": "code",
   "execution_count": 19,
   "id": "8c9d9fe7",
   "metadata": {},
   "outputs": [],
   "source": [
    "from alpfore.encoder.system_encoder import SystemEncoder\n",
    "\n",
    "enc = SystemEncoder.from_json(\"config/encoder_config.json\")     # or direct ctor\n",
    "features = enc.encode(               # ←  human-readable args\n",
    "    ssl=10,                          # short-strand length\n",
    "    lsl=22,                          # long-strand length\n",
    "    sgd=8,                           # short-strand graft density\n",
    "    seq=\"TATA\"                       # 4-bp sequence (will be left-padded)\n",
    ")"
   ]
  },
  {
   "cell_type": "code",
   "execution_count": 21,
   "id": "e772fd22",
   "metadata": {},
   "outputs": [
    {
     "data": {
      "text/plain": [
       "(40,)"
      ]
     },
     "execution_count": 21,
     "metadata": {},
     "output_type": "execute_result"
    }
   ],
   "source": [
    "np.shape(features)"
   ]
  },
  {
   "cell_type": "code",
   "execution_count": 18,
   "id": "c10b93d8",
   "metadata": {},
   "outputs": [],
   "source": [
    "sls = 45\n",
    "lsl = 50\n",
    "lgd = 1\n",
    "sgd = 30\n",
    "slen = 5\n",
    "seq = 'ATTAT'\n",
    "features = np.array([sls,lsl,lgd,sgd,slen,seq])"
   ]
  },
  {
   "cell_type": "code",
   "execution_count": 12,
   "id": "b975bf5b",
   "metadata": {},
   "outputs": [],
   "source": [
    "loader = ll.LAMMPSDumpLoader(trj_path=\"../DFP_ActiveLearning/1.LAMMPS_Sims/AATATATT/ssl20_lsl50_lgd1_sgd40/prod0.lammpstrj\", struct_path=\"../DFP_ActiveLearning/1.LAMMPS_Sims/AATATATT/ssl20_lsl50_lgd1_sgd40/ssl20_lsl50_lgd1_sgd40.pdb\", features=features)\n",
    "adapter = loader.run()"
   ]
  },
  {
   "cell_type": "code",
   "execution_count": 13,
   "id": "6bbb2d07",
   "metadata": {},
   "outputs": [
    {
     "data": {
      "text/plain": [
       "(1, 6)"
      ]
     },
     "execution_count": 13,
     "metadata": {},
     "output_type": "execute_result"
    }
   ],
   "source": [
    "np.shape(adapter.frame_descriptors())"
   ]
  },
  {
   "cell_type": "code",
   "execution_count": 14,
   "id": "f4e4027e",
   "metadata": {},
   "outputs": [
    {
     "data": {
      "text/plain": [
       "array([['45', '50', '1', '30', '5', 'ATTAT']], dtype='<U21')"
      ]
     },
     "execution_count": 14,
     "metadata": {},
     "output_type": "execute_result"
    }
   ],
   "source": [
    "adapter.frame_descriptors()"
   ]
  },
  {
   "cell_type": "code",
   "execution_count": null,
   "id": "f50f3097",
   "metadata": {},
   "outputs": [],
   "source": []
  }
 ],
 "metadata": {
  "kernelspec": {
   "display_name": "Python 3 (ipykernel)",
   "language": "python",
   "name": "python3"
  },
  "language_info": {
   "codemirror_mode": {
    "name": "ipython",
    "version": 3
   },
   "file_extension": ".py",
   "mimetype": "text/x-python",
   "name": "python",
   "nbconvert_exporter": "python",
   "pygments_lexer": "ipython3",
   "version": "3.7.12"
  }
 },
 "nbformat": 4,
 "nbformat_minor": 5
}
