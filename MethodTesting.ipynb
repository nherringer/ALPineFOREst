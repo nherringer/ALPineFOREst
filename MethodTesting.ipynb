{
 "cells": [
  {
   "cell_type": "code",
   "execution_count": 7,
   "id": "c6c6675a",
   "metadata": {},
   "outputs": [],
   "source": [
    "import numpy as np\n",
    "import pandas as pd\n",
    "import mdtraj as md\n",
    "import gpytorch as gpy\n",
    "import botorch as bo\n",
    "from typing import Union"
   ]
  },
  {
   "cell_type": "code",
   "execution_count": 8,
   "id": "9c54b903",
   "metadata": {},
   "outputs": [
    {
     "data": {
      "text/plain": [
       "<module 'alpfore.loaders.lammps_loader' from '/project/andrewferguson/Nick/GitHub/ALPineFOREst/src/alpfore/loaders/lammps_loader.py'>"
      ]
     },
     "execution_count": 8,
     "metadata": {},
     "output_type": "execute_result"
    }
   ],
   "source": [
    "import sys, pathlib\n",
    "\n",
    "project_root = pathlib.Path(\"/project/andrewferguson/Nick/GitHub/ALPineFOREst/\")\n",
    "sys.path.insert(0, str(project_root / \"src\"))\n",
    "\n",
    "import importlib, alpfore.loaders.lammps_loader as ll\n",
    "importlib.reload(ll)"
   ]
  },
  {
   "cell_type": "code",
   "execution_count": 19,
   "id": "8c9d9fe7",
   "metadata": {},
   "outputs": [],
   "source": [
    "from alpfore.encoder.system_encoder import SystemEncoder\n",
    "\n",
    "enc = SystemEncoder.from_json(\"config/encoder_config.json\")     # or direct ctor\n",
    "features = enc.encode(               # ←  human-readable args\n",
    "    ssl=10,                          # short-strand length\n",
    "    lsl=22,                          # long-strand length\n",
    "    sgd=8,                           # short-strand graft density\n",
    "    seq=\"TATA\"                       # 4-bp sequence (will be left-padded)\n",
    ")"
   ]
  },
  {
   "cell_type": "code",
   "execution_count": 21,
   "id": "e772fd22",
   "metadata": {},
   "outputs": [
    {
     "data": {
      "text/plain": [
       "(40,)"
      ]
     },
     "execution_count": 21,
     "metadata": {},
     "output_type": "execute_result"
    }
   ],
   "source": [
    "np.shape(features)"
   ]
  },
  {
   "cell_type": "code",
   "execution_count": 18,
   "id": "c10b93d8",
   "metadata": {},
   "outputs": [],
   "source": [
    "sls = 45\n",
    "lsl = 50\n",
    "lgd = 1\n",
    "sgd = 30\n",
    "slen = 5\n",
    "seq = 'ATTAT'\n",
    "features = np.array([sls,lsl,lgd,sgd,slen,seq])"
   ]
  },
  {
   "cell_type": "code",
   "execution_count": 12,
   "id": "b975bf5b",
   "metadata": {},
   "outputs": [],
   "source": [
    "loader = ll.LAMMPSDumpLoader(trj_path=\"../DFP_ActiveLearning/1.LAMMPS_Sims/AATATATT/ssl20_lsl50_lgd1_sgd40/prod0.lammpstrj\", struct_path=\"../DFP_ActiveLearning/1.LAMMPS_Sims/AATATATT/ssl20_lsl50_lgd1_sgd40/ssl20_lsl50_lgd1_sgd40.pdb\", features=features)\n",
    "adapter = loader.run()"
   ]
  },
  {
   "cell_type": "code",
   "execution_count": 13,
   "id": "6bbb2d07",
   "metadata": {},
   "outputs": [
    {
     "data": {
      "text/plain": [
       "(1, 6)"
      ]
     },
     "execution_count": 13,
     "metadata": {},
     "output_type": "execute_result"
    }
   ],
   "source": [
    "np.shape(adapter.frame_descriptors())"
   ]
  },
  {
   "cell_type": "code",
   "execution_count": 14,
   "id": "f4e4027e",
   "metadata": {},
   "outputs": [
    {
     "data": {
      "text/plain": [
       "array([['45', '50', '1', '30', '5', 'ATTAT']], dtype='<U21')"
      ]
     },
     "execution_count": 14,
     "metadata": {},
     "output_type": "execute_result"
    }
   ],
   "source": [
    "adapter.frame_descriptors()"
   ]
  },
  {
   "cell_type": "code",
   "execution_count": null,
   "id": "f50f3097",
   "metadata": {},
   "outputs": [],
   "source": []
  }
 ],
 "metadata": {
  "kernelspec": {
   "display_name": "Python 3 (ipykernel)",
   "language": "python",
   "name": "python3"
  },
  "language_info": {
   "codemirror_mode": {
    "name": "ipython",
    "version": 3
   },
   "file_extension": ".py",
   "mimetype": "text/x-python",
   "name": "python",
   "nbconvert_exporter": "python",
   "pygments_lexer": "ipython3",
   "version": "3.7.12"
  }
 },
 "nbformat": 4,
 "nbformat_minor": 5
}
